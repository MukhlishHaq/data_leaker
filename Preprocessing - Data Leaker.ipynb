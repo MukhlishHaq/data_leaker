{
  "cells": [
    {
      "cell_type": "markdown",
      "metadata": {
        "id": "PJz1N2hpddiG"
      },
      "source": [
        "# Import Libraries"
      ]
    },
    {
      "cell_type": "code",
      "execution_count": 1,
      "metadata": {
        "id": "R0d8-03-cuFE"
      },
      "outputs": [],
      "source": [
        "import numpy as np\n",
        "import pandas as pd\n",
        "import matplotlib.pyplot as plt\n",
        "import seaborn as sns"
      ]
    },
    {
      "cell_type": "markdown",
      "metadata": {
        "id": "L-aiwRvGul7R"
      },
      "source": [
        "# Load Dataset"
      ]
    },
    {
      "cell_type": "code",
      "execution_count": 2,
      "metadata": {
        "id": "mBoNRgpaumf4"
      },
      "outputs": [],
      "source": [
        "# read dataframe\n",
        "df = pd.read_csv('Churn_Modelling.csv')"
      ]
    },
    {
      "cell_type": "code",
      "execution_count": 3,
      "metadata": {
        "colab": {
          "base_uri": "https://localhost:8080/"
        },
        "id": "WpHm2z-0q1l8",
        "outputId": "bbe417b1-4872-4ad4-8b53-e48a6f927ebe"
      },
      "outputs": [
        {
          "name": "stdout",
          "output_type": "stream",
          "text": [
            "<class 'pandas.core.frame.DataFrame'>\n",
            "RangeIndex: 10000 entries, 0 to 9999\n",
            "Data columns (total 14 columns):\n",
            " #   Column           Non-Null Count  Dtype  \n",
            "---  ------           --------------  -----  \n",
            " 0   RowNumber        10000 non-null  int64  \n",
            " 1   CustomerId       10000 non-null  int64  \n",
            " 2   Surname          10000 non-null  object \n",
            " 3   CreditScore      10000 non-null  int64  \n",
            " 4   Geography        10000 non-null  object \n",
            " 5   Gender           10000 non-null  object \n",
            " 6   Age              10000 non-null  int64  \n",
            " 7   Tenure           10000 non-null  int64  \n",
            " 8   Balance          10000 non-null  float64\n",
            " 9   NumOfProducts    10000 non-null  int64  \n",
            " 10  HasCrCard        10000 non-null  int64  \n",
            " 11  IsActiveMember   10000 non-null  int64  \n",
            " 12  EstimatedSalary  10000 non-null  float64\n",
            " 13  Exited           10000 non-null  int64  \n",
            "dtypes: float64(2), int64(9), object(3)\n",
            "memory usage: 1.1+ MB\n"
          ]
        }
      ],
      "source": [
        "# informasi general tentang dataframe\n",
        "df.info()"
      ]
    },
    {
      "cell_type": "markdown",
      "metadata": {
        "id": "AKy3JX7au0Zp"
      },
      "source": [
        "Pengamatan\\:\n",
        "1. Data terdiri dari 10.000 baris dengan 14 kolom.\n",
        "2. Tidak ada kolom dengan nilai null/missing values.\n",
        "3. Sepertinya tidak ada issue yang mencolok pada tipe data untuk setiap kolom (tipe data sudah sesuai)."
      ]
    },
    {
      "cell_type": "markdown",
      "metadata": {
        "id": "pn4NevFcvaaR"
      },
      "source": [
        "## Cuplikan Data"
      ]
    },
    {
      "cell_type": "code",
      "execution_count": 4,
      "metadata": {
        "colab": {
          "base_uri": "https://localhost:8080/",
          "height": 226
        },
        "id": "tv2j2hY4vfBD",
        "outputId": "cc699bff-36db-45e9-830c-903962e0ef46"
      },
      "outputs": [
        {
          "data": {
            "text/html": [
              "<div>\n",
              "<style scoped>\n",
              "    .dataframe tbody tr th:only-of-type {\n",
              "        vertical-align: middle;\n",
              "    }\n",
              "\n",
              "    .dataframe tbody tr th {\n",
              "        vertical-align: top;\n",
              "    }\n",
              "\n",
              "    .dataframe thead th {\n",
              "        text-align: right;\n",
              "    }\n",
              "</style>\n",
              "<table border=\"1\" class=\"dataframe\">\n",
              "  <thead>\n",
              "    <tr style=\"text-align: right;\">\n",
              "      <th></th>\n",
              "      <th>RowNumber</th>\n",
              "      <th>CustomerId</th>\n",
              "      <th>Surname</th>\n",
              "      <th>CreditScore</th>\n",
              "      <th>Geography</th>\n",
              "      <th>Gender</th>\n",
              "      <th>Age</th>\n",
              "      <th>Tenure</th>\n",
              "      <th>Balance</th>\n",
              "      <th>NumOfProducts</th>\n",
              "      <th>HasCrCard</th>\n",
              "      <th>IsActiveMember</th>\n",
              "      <th>EstimatedSalary</th>\n",
              "      <th>Exited</th>\n",
              "    </tr>\n",
              "  </thead>\n",
              "  <tbody>\n",
              "    <tr>\n",
              "      <th>4420</th>\n",
              "      <td>4421</td>\n",
              "      <td>15571261</td>\n",
              "      <td>Toscani</td>\n",
              "      <td>714</td>\n",
              "      <td>Germany</td>\n",
              "      <td>Female</td>\n",
              "      <td>35</td>\n",
              "      <td>6</td>\n",
              "      <td>126077.43</td>\n",
              "      <td>2</td>\n",
              "      <td>1</td>\n",
              "      <td>1</td>\n",
              "      <td>53954.24</td>\n",
              "      <td>0</td>\n",
              "    </tr>\n",
              "    <tr>\n",
              "      <th>8713</th>\n",
              "      <td>8714</td>\n",
              "      <td>15578788</td>\n",
              "      <td>Bibi</td>\n",
              "      <td>786</td>\n",
              "      <td>Spain</td>\n",
              "      <td>Male</td>\n",
              "      <td>40</td>\n",
              "      <td>6</td>\n",
              "      <td>0.00</td>\n",
              "      <td>2</td>\n",
              "      <td>0</td>\n",
              "      <td>0</td>\n",
              "      <td>41248.80</td>\n",
              "      <td>0</td>\n",
              "    </tr>\n",
              "    <tr>\n",
              "      <th>9786</th>\n",
              "      <td>9787</td>\n",
              "      <td>15609521</td>\n",
              "      <td>Chimaraoke</td>\n",
              "      <td>803</td>\n",
              "      <td>Germany</td>\n",
              "      <td>Male</td>\n",
              "      <td>34</td>\n",
              "      <td>4</td>\n",
              "      <td>142929.16</td>\n",
              "      <td>2</td>\n",
              "      <td>1</td>\n",
              "      <td>1</td>\n",
              "      <td>114869.56</td>\n",
              "      <td>0</td>\n",
              "    </tr>\n",
              "    <tr>\n",
              "      <th>1964</th>\n",
              "      <td>1965</td>\n",
              "      <td>15738318</td>\n",
              "      <td>Kung</td>\n",
              "      <td>800</td>\n",
              "      <td>France</td>\n",
              "      <td>Female</td>\n",
              "      <td>40</td>\n",
              "      <td>5</td>\n",
              "      <td>97764.41</td>\n",
              "      <td>1</td>\n",
              "      <td>1</td>\n",
              "      <td>0</td>\n",
              "      <td>98640.15</td>\n",
              "      <td>1</td>\n",
              "    </tr>\n",
              "    <tr>\n",
              "      <th>9187</th>\n",
              "      <td>9188</td>\n",
              "      <td>15628863</td>\n",
              "      <td>Calabresi</td>\n",
              "      <td>601</td>\n",
              "      <td>France</td>\n",
              "      <td>Male</td>\n",
              "      <td>38</td>\n",
              "      <td>4</td>\n",
              "      <td>60013.81</td>\n",
              "      <td>1</td>\n",
              "      <td>1</td>\n",
              "      <td>1</td>\n",
              "      <td>38020.05</td>\n",
              "      <td>0</td>\n",
              "    </tr>\n",
              "  </tbody>\n",
              "</table>\n",
              "</div>"
            ],
            "text/plain": [
              "      RowNumber  CustomerId     Surname  CreditScore Geography  Gender  Age  \\\n",
              "4420       4421    15571261     Toscani          714   Germany  Female   35   \n",
              "8713       8714    15578788        Bibi          786     Spain    Male   40   \n",
              "9786       9787    15609521  Chimaraoke          803   Germany    Male   34   \n",
              "1964       1965    15738318        Kung          800    France  Female   40   \n",
              "9187       9188    15628863   Calabresi          601    France    Male   38   \n",
              "\n",
              "      Tenure    Balance  NumOfProducts  HasCrCard  IsActiveMember  \\\n",
              "4420       6  126077.43              2          1               1   \n",
              "8713       6       0.00              2          0               0   \n",
              "9786       4  142929.16              2          1               1   \n",
              "1964       5   97764.41              1          1               0   \n",
              "9187       4   60013.81              1          1               1   \n",
              "\n",
              "      EstimatedSalary  Exited  \n",
              "4420         53954.24       0  \n",
              "8713         41248.80       0  \n",
              "9786        114869.56       0  \n",
              "1964         98640.15       1  \n",
              "9187         38020.05       0  "
            ]
          },
          "execution_count": 4,
          "metadata": {},
          "output_type": "execute_result"
        }
      ],
      "source": [
        "df.sample(5)"
      ]
    },
    {
      "cell_type": "markdown",
      "metadata": {
        "id": "fLCLdEC3vqXq"
      },
      "source": [
        "# Statistical Summary"
      ]
    },
    {
      "cell_type": "code",
      "execution_count": 5,
      "metadata": {
        "id": "XQ_nAtZZM6ww"
      },
      "outputs": [],
      "source": [
        "# ubah Tipe data kolom\n",
        "columns_to_convert = ['IsActiveMember', 'HasCrCard', 'Exited']\n",
        "df[columns_to_convert] = df[columns_to_convert].astype(object)"
      ]
    },
    {
      "cell_type": "code",
      "execution_count": 6,
      "metadata": {
        "id": "qqtPIt1gpf9q"
      },
      "outputs": [],
      "source": [
        "# pengelompokan kolom berdasarkan jenisnya\n",
        "cats = ['Geography', 'Gender','IsActiveMember', 'HasCrCard', 'Exited']\n",
        "nums = ['CreditScore', 'Age', 'Tenure', 'Balance', 'EstimatedSalary','NumOfProducts']"
      ]
    },
    {
      "cell_type": "code",
      "execution_count": 7,
      "metadata": {
        "colab": {
          "base_uri": "https://localhost:8080/",
          "height": 300
        },
        "id": "Sl3azjfkp6UY",
        "outputId": "25d84370-805a-424b-a8ab-69c0d736b7b4"
      },
      "outputs": [
        {
          "data": {
            "text/html": [
              "<div>\n",
              "<style scoped>\n",
              "    .dataframe tbody tr th:only-of-type {\n",
              "        vertical-align: middle;\n",
              "    }\n",
              "\n",
              "    .dataframe tbody tr th {\n",
              "        vertical-align: top;\n",
              "    }\n",
              "\n",
              "    .dataframe thead th {\n",
              "        text-align: right;\n",
              "    }\n",
              "</style>\n",
              "<table border=\"1\" class=\"dataframe\">\n",
              "  <thead>\n",
              "    <tr style=\"text-align: right;\">\n",
              "      <th></th>\n",
              "      <th>CreditScore</th>\n",
              "      <th>Age</th>\n",
              "      <th>Tenure</th>\n",
              "      <th>Balance</th>\n",
              "      <th>EstimatedSalary</th>\n",
              "      <th>NumOfProducts</th>\n",
              "    </tr>\n",
              "  </thead>\n",
              "  <tbody>\n",
              "    <tr>\n",
              "      <th>count</th>\n",
              "      <td>10000.000000</td>\n",
              "      <td>10000.000000</td>\n",
              "      <td>10000.000000</td>\n",
              "      <td>10000.000000</td>\n",
              "      <td>10000.000000</td>\n",
              "      <td>10000.000000</td>\n",
              "    </tr>\n",
              "    <tr>\n",
              "      <th>mean</th>\n",
              "      <td>650.528800</td>\n",
              "      <td>38.921800</td>\n",
              "      <td>5.012800</td>\n",
              "      <td>76485.889288</td>\n",
              "      <td>100090.239881</td>\n",
              "      <td>1.530200</td>\n",
              "    </tr>\n",
              "    <tr>\n",
              "      <th>std</th>\n",
              "      <td>96.653299</td>\n",
              "      <td>10.487806</td>\n",
              "      <td>2.892174</td>\n",
              "      <td>62397.405202</td>\n",
              "      <td>57510.492818</td>\n",
              "      <td>0.581654</td>\n",
              "    </tr>\n",
              "    <tr>\n",
              "      <th>min</th>\n",
              "      <td>350.000000</td>\n",
              "      <td>18.000000</td>\n",
              "      <td>0.000000</td>\n",
              "      <td>0.000000</td>\n",
              "      <td>11.580000</td>\n",
              "      <td>1.000000</td>\n",
              "    </tr>\n",
              "    <tr>\n",
              "      <th>25%</th>\n",
              "      <td>584.000000</td>\n",
              "      <td>32.000000</td>\n",
              "      <td>3.000000</td>\n",
              "      <td>0.000000</td>\n",
              "      <td>51002.110000</td>\n",
              "      <td>1.000000</td>\n",
              "    </tr>\n",
              "    <tr>\n",
              "      <th>50%</th>\n",
              "      <td>652.000000</td>\n",
              "      <td>37.000000</td>\n",
              "      <td>5.000000</td>\n",
              "      <td>97198.540000</td>\n",
              "      <td>100193.915000</td>\n",
              "      <td>1.000000</td>\n",
              "    </tr>\n",
              "    <tr>\n",
              "      <th>75%</th>\n",
              "      <td>718.000000</td>\n",
              "      <td>44.000000</td>\n",
              "      <td>7.000000</td>\n",
              "      <td>127644.240000</td>\n",
              "      <td>149388.247500</td>\n",
              "      <td>2.000000</td>\n",
              "    </tr>\n",
              "    <tr>\n",
              "      <th>max</th>\n",
              "      <td>850.000000</td>\n",
              "      <td>92.000000</td>\n",
              "      <td>10.000000</td>\n",
              "      <td>250898.090000</td>\n",
              "      <td>199992.480000</td>\n",
              "      <td>4.000000</td>\n",
              "    </tr>\n",
              "  </tbody>\n",
              "</table>\n",
              "</div>"
            ],
            "text/plain": [
              "        CreditScore           Age        Tenure        Balance  \\\n",
              "count  10000.000000  10000.000000  10000.000000   10000.000000   \n",
              "mean     650.528800     38.921800      5.012800   76485.889288   \n",
              "std       96.653299     10.487806      2.892174   62397.405202   \n",
              "min      350.000000     18.000000      0.000000       0.000000   \n",
              "25%      584.000000     32.000000      3.000000       0.000000   \n",
              "50%      652.000000     37.000000      5.000000   97198.540000   \n",
              "75%      718.000000     44.000000      7.000000  127644.240000   \n",
              "max      850.000000     92.000000     10.000000  250898.090000   \n",
              "\n",
              "       EstimatedSalary  NumOfProducts  \n",
              "count     10000.000000   10000.000000  \n",
              "mean     100090.239881       1.530200  \n",
              "std       57510.492818       0.581654  \n",
              "min          11.580000       1.000000  \n",
              "25%       51002.110000       1.000000  \n",
              "50%      100193.915000       1.000000  \n",
              "75%      149388.247500       2.000000  \n",
              "max      199992.480000       4.000000  "
            ]
          },
          "execution_count": 7,
          "metadata": {},
          "output_type": "execute_result"
        }
      ],
      "source": [
        "# ringkasan statistik dari kolom numerik\n",
        "df[nums].describe()"
      ]
    },
    {
      "cell_type": "code",
      "execution_count": 8,
      "metadata": {
        "colab": {
          "base_uri": "https://localhost:8080/",
          "height": 174
        },
        "id": "yjfRb6t8rRVB",
        "outputId": "07c11583-e9d9-474f-f71d-e90c0fa5df50"
      },
      "outputs": [
        {
          "data": {
            "text/html": [
              "<div>\n",
              "<style scoped>\n",
              "    .dataframe tbody tr th:only-of-type {\n",
              "        vertical-align: middle;\n",
              "    }\n",
              "\n",
              "    .dataframe tbody tr th {\n",
              "        vertical-align: top;\n",
              "    }\n",
              "\n",
              "    .dataframe thead th {\n",
              "        text-align: right;\n",
              "    }\n",
              "</style>\n",
              "<table border=\"1\" class=\"dataframe\">\n",
              "  <thead>\n",
              "    <tr style=\"text-align: right;\">\n",
              "      <th></th>\n",
              "      <th>Geography</th>\n",
              "      <th>Gender</th>\n",
              "      <th>IsActiveMember</th>\n",
              "      <th>HasCrCard</th>\n",
              "      <th>Exited</th>\n",
              "    </tr>\n",
              "  </thead>\n",
              "  <tbody>\n",
              "    <tr>\n",
              "      <th>count</th>\n",
              "      <td>10000</td>\n",
              "      <td>10000</td>\n",
              "      <td>10000</td>\n",
              "      <td>10000</td>\n",
              "      <td>10000</td>\n",
              "    </tr>\n",
              "    <tr>\n",
              "      <th>unique</th>\n",
              "      <td>3</td>\n",
              "      <td>2</td>\n",
              "      <td>2</td>\n",
              "      <td>2</td>\n",
              "      <td>2</td>\n",
              "    </tr>\n",
              "    <tr>\n",
              "      <th>top</th>\n",
              "      <td>France</td>\n",
              "      <td>Male</td>\n",
              "      <td>1</td>\n",
              "      <td>1</td>\n",
              "      <td>0</td>\n",
              "    </tr>\n",
              "    <tr>\n",
              "      <th>freq</th>\n",
              "      <td>5014</td>\n",
              "      <td>5457</td>\n",
              "      <td>5151</td>\n",
              "      <td>7055</td>\n",
              "      <td>7963</td>\n",
              "    </tr>\n",
              "  </tbody>\n",
              "</table>\n",
              "</div>"
            ],
            "text/plain": [
              "       Geography Gender  IsActiveMember  HasCrCard  Exited\n",
              "count      10000  10000           10000      10000   10000\n",
              "unique         3      2               2          2       2\n",
              "top       France   Male               1          1       0\n",
              "freq        5014   5457            5151       7055    7963"
            ]
          },
          "execution_count": 8,
          "metadata": {},
          "output_type": "execute_result"
        }
      ],
      "source": [
        "# ringkasan statistik dari kolom kategorik\n",
        "df[cats].describe()"
      ]
    },
    {
      "cell_type": "markdown",
      "metadata": {
        "id": "co8qOw-ozE9w"
      },
      "source": [
        "## Drop kolom"
      ]
    },
    {
      "cell_type": "code",
      "execution_count": 9,
      "metadata": {
        "colab": {
          "base_uri": "https://localhost:8080/"
        },
        "id": "Ndta8EnK_WXF",
        "outputId": "1272b177-4424-4d15-ca8b-5d0edc8e8ba7"
      },
      "outputs": [
        {
          "name": "stdout",
          "output_type": "stream",
          "text": [
            "value counts of column RowNumber\n",
            "RowNumber\n",
            "1        1\n",
            "6671     1\n",
            "6664     1\n",
            "6665     1\n",
            "6666     1\n",
            "        ..\n",
            "3334     1\n",
            "3335     1\n",
            "3336     1\n",
            "3337     1\n",
            "10000    1\n",
            "Name: count, Length: 10000, dtype: int64\n",
            "------------------------------ \n",
            "\n",
            "value counts of column CustomerId\n",
            "CustomerId\n",
            "15634602    1\n",
            "15667932    1\n",
            "15766185    1\n",
            "15667632    1\n",
            "15599024    1\n",
            "           ..\n",
            "15599078    1\n",
            "15702300    1\n",
            "15660735    1\n",
            "15671390    1\n",
            "15628319    1\n",
            "Name: count, Length: 10000, dtype: int64\n",
            "------------------------------ \n",
            "\n",
            "value counts of column Surname\n",
            "Surname\n",
            "Smith       32\n",
            "Scott       29\n",
            "Martin      29\n",
            "Walker      28\n",
            "Brown       26\n",
            "            ..\n",
            "Izmailov     1\n",
            "Bold         1\n",
            "Bonham       1\n",
            "Poninski     1\n",
            "Burbidge     1\n",
            "Name: count, Length: 2932, dtype: int64\n",
            "------------------------------ \n",
            "\n",
            "value counts of column CreditScore\n",
            "CreditScore\n",
            "850    233\n",
            "678     63\n",
            "655     54\n",
            "705     53\n",
            "667     53\n",
            "      ... \n",
            "404      1\n",
            "351      1\n",
            "365      1\n",
            "417      1\n",
            "419      1\n",
            "Name: count, Length: 460, dtype: int64\n",
            "------------------------------ \n",
            "\n",
            "value counts of column Geography\n",
            "Geography\n",
            "France     5014\n",
            "Germany    2509\n",
            "Spain      2477\n",
            "Name: count, dtype: int64\n",
            "------------------------------ \n",
            "\n",
            "value counts of column Gender\n",
            "Gender\n",
            "Male      5457\n",
            "Female    4543\n",
            "Name: count, dtype: int64\n",
            "------------------------------ \n",
            "\n",
            "value counts of column Age\n",
            "Age\n",
            "37    478\n",
            "38    477\n",
            "35    474\n",
            "36    456\n",
            "34    447\n",
            "     ... \n",
            "92      2\n",
            "82      1\n",
            "88      1\n",
            "85      1\n",
            "83      1\n",
            "Name: count, Length: 70, dtype: int64\n",
            "------------------------------ \n",
            "\n",
            "value counts of column Tenure\n",
            "Tenure\n",
            "2     1048\n",
            "1     1035\n",
            "7     1028\n",
            "8     1025\n",
            "5     1012\n",
            "3     1009\n",
            "4      989\n",
            "9      984\n",
            "6      967\n",
            "10     490\n",
            "0      413\n",
            "Name: count, dtype: int64\n",
            "------------------------------ \n",
            "\n",
            "value counts of column Balance\n",
            "Balance\n",
            "0.00         3617\n",
            "130170.82       2\n",
            "105473.74       2\n",
            "85304.27        1\n",
            "159397.75       1\n",
            "             ... \n",
            "81556.89        1\n",
            "112687.69       1\n",
            "108698.96       1\n",
            "238387.56       1\n",
            "130142.79       1\n",
            "Name: count, Length: 6382, dtype: int64\n",
            "------------------------------ \n",
            "\n",
            "value counts of column NumOfProducts\n",
            "NumOfProducts\n",
            "1    5084\n",
            "2    4590\n",
            "3     266\n",
            "4      60\n",
            "Name: count, dtype: int64\n",
            "------------------------------ \n",
            "\n",
            "value counts of column HasCrCard\n",
            "HasCrCard\n",
            "1    7055\n",
            "0    2945\n",
            "Name: count, dtype: int64\n",
            "------------------------------ \n",
            "\n",
            "value counts of column IsActiveMember\n",
            "IsActiveMember\n",
            "1    5151\n",
            "0    4849\n",
            "Name: count, dtype: int64\n",
            "------------------------------ \n",
            "\n",
            "value counts of column EstimatedSalary\n",
            "EstimatedSalary\n",
            "24924.92     2\n",
            "101348.88    1\n",
            "55313.44     1\n",
            "72500.68     1\n",
            "182692.80    1\n",
            "            ..\n",
            "120893.07    1\n",
            "188377.21    1\n",
            "55902.93     1\n",
            "4523.74      1\n",
            "38190.78     1\n",
            "Name: count, Length: 9999, dtype: int64\n",
            "------------------------------ \n",
            "\n",
            "value counts of column Exited\n",
            "Exited\n",
            "0    7963\n",
            "1    2037\n",
            "Name: count, dtype: int64\n",
            "------------------------------ \n",
            "\n"
          ]
        }
      ],
      "source": [
        "for col in df:\n",
        "  print(f'value counts of column {col}')\n",
        "  print(df[col].value_counts())\n",
        "  print('---'*10, '\\n')"
      ]
    },
    {
      "cell_type": "code",
      "execution_count": 10,
      "metadata": {
        "id": "99SmBI0F-t9U"
      },
      "outputs": [],
      "source": [
        "# drop kolom `RowNumber`, `CustomerID`, `Surname`\n",
        "df.drop([\"RowNumber\",\"CustomerId\", \"Surname\"], axis=1, inplace=True)"
      ]
    },
    {
      "cell_type": "markdown",
      "metadata": {
        "id": "GtCqfPFe_yGl"
      },
      "source": [
        "Dilakukan drop pada kolom yang kurang relevan dengan target `Exited` seperti `RowNumber`, `CustomerID`, `Surname`. Ketiga kolom tersebut juga tidak memiliki nilai kosong ataupun data aneh (contoh: value tidak sesuai isi kolom), sehingga dilakukannya drop tidak mempengaruhi model."
      ]
    },
    {
      "cell_type": "markdown",
      "metadata": {
        "id": "6_er5f0MuCR2"
      },
      "source": [
        "# Data Cleaning and Preprocessing\n",
        "## A. Handle Missing Values"
      ]
    },
    {
      "cell_type": "code",
      "execution_count": 11,
      "metadata": {
        "colab": {
          "base_uri": "https://localhost:8080/"
        },
        "id": "-nFiCGgquD1e",
        "outputId": "27d095da-c728-4989-88a0-151025fedbad"
      },
      "outputs": [
        {
          "data": {
            "text/plain": [
              "CreditScore        False\n",
              "Geography          False\n",
              "Gender             False\n",
              "Age                False\n",
              "Tenure             False\n",
              "Balance            False\n",
              "NumOfProducts      False\n",
              "HasCrCard          False\n",
              "IsActiveMember     False\n",
              "EstimatedSalary    False\n",
              "Exited             False\n",
              "dtype: bool"
            ]
          },
          "execution_count": 11,
          "metadata": {},
          "output_type": "execute_result"
        }
      ],
      "source": [
        "# jumlah entry NULL di setiap kolom\n",
        "df.isna().any()"
      ]
    },
    {
      "cell_type": "markdown",
      "metadata": {
        "id": "3emMU2mxv5G0"
      },
      "source": [
        "Tidak ada nilai null pada dataset."
      ]
    },
    {
      "cell_type": "markdown",
      "metadata": {
        "id": "a4Y2qV2QzRtl"
      },
      "source": [
        "## B. Handle Duplicated Data"
      ]
    },
    {
      "cell_type": "code",
      "execution_count": 12,
      "metadata": {
        "colab": {
          "base_uri": "https://localhost:8080/"
        },
        "id": "xPYIlLV0y_w6",
        "outputId": "f6176b14-9fea-48ea-ae04-ec7f5c52d8c2"
      },
      "outputs": [
        {
          "data": {
            "text/plain": [
              "0"
            ]
          },
          "execution_count": 12,
          "metadata": {},
          "output_type": "execute_result"
        }
      ],
      "source": [
        "# cek jumlah duplicated rows\n",
        "# dari semua kolom\n",
        "df.duplicated().sum()"
      ]
    },
    {
      "cell_type": "markdown",
      "metadata": {
        "id": "tyJjhGgOjV0J"
      },
      "source": [
        "Tidak ada baris duplikat."
      ]
    },
    {
      "cell_type": "markdown",
      "metadata": {
        "id": "HbJBD6yxzcJP"
      },
      "source": [
        "## C. Handle Outliers"
      ]
    },
    {
      "cell_type": "code",
      "execution_count": 13,
      "metadata": {
        "colab": {
          "base_uri": "https://localhost:8080/",
          "height": 397
        },
        "id": "E_1BmddPluVh",
        "outputId": "b114939c-8d86-40d6-9375-8f6022b98bd9"
      },
      "outputs": [
        {
          "data": {
            "image/png": "[encoded data removed]",
            "text/plain": [
              "<Figure size 1500x500 with 6 Axes>"
            ]
          },
          "metadata": {},
          "output_type": "display_data"
        }
      ],
      "source": [
        "# melihat outliers melalui Boxplot (Numerical)\n",
        "fig, axs = plt.subplots(1, len(nums), figsize=(15, 5))\n",
        "\n",
        "for i in range(len(nums)):\n",
        "    sns.boxplot(y=df[nums[i]], color='blue', ax=axs[i], orient='v')\n",
        "plt.tight_layout()\n",
        "plt.show()"
      ]
    },
    {
      "cell_type": "code",
      "execution_count": 14,
      "metadata": {},
      "outputs": [
        {
          "data": {
            "text/plain": [
              "{'CreditScore': 15,\n",
              " 'Age': 359,\n",
              " 'Tenure': 0,\n",
              " 'Balance': 0,\n",
              " 'NumOfProducts': 60,\n",
              " 'EstimatedSalary': 0}"
            ]
          },
          "execution_count": 14,
          "metadata": {},
          "output_type": "execute_result"
        }
      ],
      "source": [
        "# Langkah 3: Menangani outliers - Identifikasi outliers untuk kolom numerik menggunakan IQR\n",
        "\n",
        "numerical_columns = ['CreditScore', 'Age', 'Tenure', 'Balance', 'NumOfProducts', 'EstimatedSalary']\n",
        "\n",
        "outliers_count = {}\n",
        "\n",
        "for col in numerical_columns:\n",
        "    Q1 = df[col].quantile(0.25)\n",
        "    Q3 = df[col].quantile(0.75)\n",
        "    IQR = Q3 - Q1\n",
        "    lower_bound = Q1 - 1.5 * IQR\n",
        "    upper_bound = Q3 + 1.5 * IQR\n",
        "    outliers = df[(df[col] < lower_bound) | (df[col] > upper_bound)]\n",
        "\n",
        "    outliers_count[col] = len(outliers)\n",
        "outliers_count"
      ]
    },
    {
      "cell_type": "markdown",
      "metadata": {
        "id": "1mZSVR4cl0Dp"
      },
      "source": [
        "Terdapat outliers pada fitur `CreditScore`,`Age`, dan `NumOfProducts` sehingga diperlukan handling outliers."
      ]
    },
    {
      "cell_type": "code",
      "execution_count": 15,
      "metadata": {
        "colab": {
          "base_uri": "https://localhost:8080/",
          "height": 475
        },
        "id": "AP4oCYq_mgWb",
        "outputId": "bb8399c7-37bb-4af4-8e19-1d5739c53ca5"
      },
      "outputs": [
        {
          "data": {
            "image/png": "[encoded data removed]",
            "text/plain": [
              "<Figure size 1500x600 with 12 Axes>"
            ]
          },
          "metadata": {},
          "output_type": "display_data"
        }
      ],
      "source": [
        "# melihat outliers dari fitur melalui distribusi data (Numerical)\n",
        "features = nums\n",
        "data_num = df[features]\n",
        "nums = data_num.select_dtypes(include=['int', 'float']).columns\n",
        "cats = data_num.select_dtypes(include=['object']).columns\n",
        "\n",
        "k = len(nums)\n",
        "n = 3\n",
        "m = (k - 1) // n + 1\n",
        "fig, axes = plt.subplots(m, n, figsize=(n * 5, m * 3))\n",
        "\n",
        "for i, col in enumerate(nums):\n",
        "    r, c = i // n, i % n\n",
        "    ax = axes[r, c]\n",
        "    data_num[col].hist(ax=ax, color='green')\n",
        "    ax2 = data_num[col].plot.kde(ax=ax, secondary_y=True, title=col, color='blue')\n",
        "    ax2.set_ylim(0)\n",
        "\n",
        "fig.tight_layout()\n",
        "plt.show()"
      ]
    },
    {
      "cell_type": "markdown",
      "metadata": {
        "id": "XZfg5VljmlcW"
      },
      "source": [
        "Distribusi data tiap fitur Analisa Plot: <br>\n",
        "- `Tenure`, dan `EstimatedSalary` = sebaran data cenderung terdistribusi normal.\n",
        "- `CreditScore`, `Age`,`Balance`,dan `NumOfProducts` = sebaran data skewed.\n",
        "  - `CreditScore`= left skewed. Nantinya perlu dilakukan fitur transformasi menggunakan Normalization/Standardization. <br>\n",
        "  - `Age`,`Balance`,`NumOfProducts`= right skewed. Nantinya perlu dilakukan fitur transformasi menggunakan Normalization/Standardization.\n"
      ]
    },
    {
      "cell_type": "markdown",
      "metadata": {},
      "source": [
        "Kesimpulan handling outliers: <br>\n",
        "Terdapat outliers pada fitur `CreditScore`, `Age`, dan `NumOfProducts`, sehingga disarankan dilakukan handling bisa dengan Z-Score ataupun IQR. Pemilihan handling outliers dipilih selain karena kesesuaian dengan distribusi data, tetapi juga mempertimbangkan jumlah outliers yang dibuang. Semakin sedikit data (outliers) yang dibuang semakin baik.<br>\n",
        "Untuk variabel numerik semuanya perlu dilakukan standarisasi dikarenakan datanya tidak berdistribusi normal berdasarkan uji Shapiro-Wilk."
      ]
    },
    {
      "cell_type": "markdown",
      "metadata": {},
      "source": [
        "### Melakukan analisis Statistik untuk Pengujian distribusi data"
      ]
    },
    {
      "cell_type": "markdown",
      "metadata": {},
      "source": [
        "#### Tes Shapiro-Wilk untuk variabel numerik sebelum transformasi dan encoding"
      ]
    },
    {
      "cell_type": "code",
      "execution_count": 16,
      "metadata": {},
      "outputs": [
        {
          "data": {
            "text/html": [
              "<div>\n",
              "<style scoped>\n",
              "    .dataframe tbody tr th:only-of-type {\n",
              "        vertical-align: middle;\n",
              "    }\n",
              "\n",
              "    .dataframe tbody tr th {\n",
              "        vertical-align: top;\n",
              "    }\n",
              "\n",
              "    .dataframe thead th {\n",
              "        text-align: right;\n",
              "    }\n",
              "</style>\n",
              "<table border=\"1\" class=\"dataframe\">\n",
              "  <thead>\n",
              "    <tr style=\"text-align: right;\">\n",
              "      <th></th>\n",
              "      <th>Statistic</th>\n",
              "      <th>P-Value</th>\n",
              "    </tr>\n",
              "  </thead>\n",
              "  <tbody>\n",
              "    <tr>\n",
              "      <th>CreditScore</th>\n",
              "      <td>0.987729</td>\n",
              "      <td>3.270296e-04</td>\n",
              "    </tr>\n",
              "    <tr>\n",
              "      <th>Age</th>\n",
              "      <td>0.944395</td>\n",
              "      <td>9.587486e-13</td>\n",
              "    </tr>\n",
              "    <tr>\n",
              "      <th>Tenure</th>\n",
              "      <td>0.952197</td>\n",
              "      <td>1.220128e-11</td>\n",
              "    </tr>\n",
              "    <tr>\n",
              "      <th>Balance</th>\n",
              "      <td>0.850164</td>\n",
              "      <td>2.187417e-21</td>\n",
              "    </tr>\n",
              "    <tr>\n",
              "      <th>NumOfProducts</th>\n",
              "      <td>0.696666</td>\n",
              "      <td>5.091370e-29</td>\n",
              "    </tr>\n",
              "    <tr>\n",
              "      <th>EstimatedSalary</th>\n",
              "      <td>0.952082</td>\n",
              "      <td>1.172831e-11</td>\n",
              "    </tr>\n",
              "  </tbody>\n",
              "</table>\n",
              "</div>"
            ],
            "text/plain": [
              "                 Statistic       P-Value\n",
              "CreditScore       0.987729  3.270296e-04\n",
              "Age               0.944395  9.587486e-13\n",
              "Tenure            0.952197  1.220128e-11\n",
              "Balance           0.850164  2.187417e-21\n",
              "NumOfProducts     0.696666  5.091370e-29\n",
              "EstimatedSalary   0.952082  1.172831e-11"
            ]
          },
          "execution_count": 16,
          "metadata": {},
          "output_type": "execute_result"
        }
      ],
      "source": [
        "from scipy.stats import shapiro\n",
        "# Mengambil sampel data karena keterbatasan ukuran sampel untuk tes Shapiro-Wilk\n",
        "sample_data = df[numerical_columns].sample(n=500, random_state=42)\n",
        "\n",
        "\n",
        "\n",
        "# Hasil tes Shapiro-Wilk akan disimpan di sini\n",
        "\n",
        "shapiro_results = {}\n",
        "\n",
        "\n",
        "\n",
        "for col in sample_data.columns:\n",
        "\n",
        "    stat, p = shapiro(sample_data[col])\n",
        "\n",
        "    shapiro_results[col] = {'Statistic': stat, 'P-Value': p}\n",
        "\n",
        "\n",
        "\n",
        "# Konversi hasil ke DataFrame untuk kemudahan pembacaan\n",
        "\n",
        "shapiro_results_df = pd.DataFrame(shapiro_results).T\n",
        "\n",
        "\n",
        "\n",
        "shapiro_results_df"
      ]
    },
    {
      "cell_type": "markdown",
      "metadata": {},
      "source": [
        " Kesimpulan Hasil Analisis Shapiro-Wilk\n",
        "\n",
        "Hasil uji Shapiro-Wilk digunakan untuk menguji distribusi normalitas dari beberapa variabel dalam dataset. Berikut adalah ringkasan hasil uji untuk masing-masing variabel:\n",
        "\n",
        "1. **CreditScore**:\n",
        "   - Statistik Shapiro-Wilk: 0.987729\n",
        "   - P-Value: 3.270296e-04 (0.000327)\n",
        "   - **Kesimpulan**: Nilai p-value yang sangat rendah menunjukkan bahwa CreditScore tidak terdistribusi secara normal.\n",
        "\n",
        "2. **Age**:\n",
        "   - Statistik Shapiro-Wilk: 0.944395\n",
        "   - P-Value: 9.587486e-13 (sangat mendekati nol)\n",
        "   - **Kesimpulan**: Nilai p-value yang sangat rendah menunjukkan bahwa Age tidak terdistribusi secara normal.\n",
        "\n",
        "3. **Tenure**:\n",
        "   - Statistik Shapiro-Wilk: 0.952197\n",
        "   - P-Value: 1.220128e-11 (sangat mendekati nol)\n",
        "   - **Kesimpulan**: Nilai p-value yang sangat rendah menunjukkan bahwa Tenure tidak terdistribusi secara normal.\n",
        "\n",
        "4. **Balance**:\n",
        "   - Statistik Shapiro-Wilk: 0.850164\n",
        "   - P-Value: 2.187417e-21 (sangat mendekati nol)\n",
        "   - **Kesimpulan**: Nilai p-value yang sangat rendah menunjukkan bahwa Balance tidak terdistribusi secara normal.\n",
        "\n",
        "5. **NumOfProducts**:\n",
        "   - Statistik Shapiro-Wilk: 0.696666\n",
        "   - P-Value: 5.091370e-29 (sangat mendekati nol)\n",
        "   - **Kesimpulan**: Nilai p-value yang sangat rendah menunjukkan bahwa NumOfProducts tidak terdistribusi secara normal.\n",
        "\n",
        "6. **EstimatedSalary**:\n",
        "   - Statistik Shapiro-Wilk: 0.952082\n",
        "   - P-Value: 1.172831e-11 (sangat mendekati nol)\n",
        "   - **Kesimpulan**: Nilai p-value yang sangat rendah menunjukkan bahwa EstimatedSalary tidak terdistribusi secara normal.\n",
        "\n",
        "Dalam semua kasus di atas, karena nilai p-value sangat rendah, kita memiliki cukup bukti untuk menolak hipotesis nol bahwa data terdistribusi normal. Oleh karena itu, variabel-variabel tersebut tidak mengikuti distribusi normal, dan ini penting untuk mempertimbangkan metode analisis atau transformasi data yang sesuai dalam analisis lebih lanjut.\n"
      ]
    },
    {
      "cell_type": "markdown",
      "metadata": {
        "id": "1fXOZ64USmLc"
      },
      "source": [
        "### Menghilangkan Outliers dengan Z-Score"
      ]
    },
    {
      "cell_type": "code",
      "execution_count": 17,
      "metadata": {
        "id": "5zi-UeZbzaJA"
      },
      "outputs": [],
      "source": [
        "from scipy import stats"
      ]
    },
    {
      "cell_type": "code",
      "execution_count": 18,
      "metadata": {
        "colab": {
          "base_uri": "https://localhost:8080/"
        },
        "id": "gHFtTlPUN2ZF",
        "outputId": "cb04d358-4077-4d6a-89f6-82b4b8ed06df"
      },
      "outputs": [
        {
          "name": "stdout",
          "output_type": "stream",
          "text": [
            "Jumlah baris sebelum memfilter outlier: 10000\n",
            "Jumlah baris setelah memfilter outlier: 9799\n"
          ]
        }
      ],
      "source": [
        "# handling outliers menggunakan Z-score\n",
        "df_zscore = df.copy()\n",
        "print(f'Jumlah baris sebelum memfilter outlier: {len(df_zscore)}')\n",
        "\n",
        "filtered_entries = np.array([True] * len(df_zscore))\n",
        "\n",
        "for col in ['CreditScore','Age','NumOfProducts']:\n",
        "    zscore = abs(stats.zscore(df_zscore[col])) # hitung absolute z-scorenya\n",
        "    filtered_entries = (zscore < 3) & filtered_entries # keep yang kurang dari 3 absolute z-scorenya\n",
        "\n",
        "df_zscore = df_zscore[filtered_entries] # filter, cuma ambil yang z-scorenya dibawah 3\n",
        "\n",
        "print(f'Jumlah baris setelah memfilter outlier: {len(df_zscore)}')"
      ]
    },
    {
      "cell_type": "markdown",
      "metadata": {
        "id": "1rL8YzaOPgfA"
      },
      "source": [
        "Catatan:<br>\n",
        "Setelah dilakukan handling outliers menggunakan Z-score, dataset mengalami pengurangan data sebanyak **201 baris**."
      ]
    },
    {
      "cell_type": "markdown",
      "metadata": {
        "id": "dJItdC-ISrWY"
      },
      "source": [
        "### Menghilangkan Outliers dengan  IQR"
      ]
    },
    {
      "cell_type": "markdown",
      "metadata": {
        "id": "vjWsi_YIRl4o"
      },
      "source": [
        "----\n",
        "```\n",
        "Jangan di-run. Di bawah ini hanya sebagai contoh perbandingan antara handling outliers menggunakan **Z-Score vs IQR**.\n",
        "```\n",
        "----\n",
        "----"
      ]
    },
    {
      "cell_type": "code",
      "execution_count": 19,
      "metadata": {
        "colab": {
          "base_uri": "https://localhost:8080/"
        },
        "id": "aToU5C_fSiTj",
        "outputId": "98863da6-dca6-4129-930a-078129e2c78f"
      },
      "outputs": [
        {
          "name": "stdout",
          "output_type": "stream",
          "text": [
            "Jumlah baris sebelum memfilter outlier: 10000\n",
            "Jumlah baris setelah memfilter outlier: 9568\n"
          ]
        }
      ],
      "source": [
        "# handling outliers menggunakan IQR (interquartile)\n",
        "df_iqr = df.copy()\n",
        "print(f'Jumlah baris sebelum memfilter outlier: {len(df_iqr)}')\n",
        "\n",
        "filtered_entries = np.array([True] * len(df_iqr))\n",
        "for col in ['CreditScore','Age','NumOfProducts']:\n",
        "    Q1 = df_iqr[col].quantile(0.25)\n",
        "    Q3 = df_iqr[col].quantile(0.75)\n",
        "    IQR = Q3 - Q1\n",
        "    low_limit = Q1 - (IQR * 1.5)\n",
        "    high_limit = Q3 + (IQR * 1.5)\n",
        "\n",
        "    filtered_entries = ((df_iqr[col] >= low_limit) & (df_iqr[col] <= high_limit)) & filtered_entries\n",
        "\n",
        "df_iqr = df_iqr[filtered_entries]\n",
        "\n",
        "print(f'Jumlah baris setelah memfilter outlier: {len(df_iqr)}')"
      ]
    },
    {
      "cell_type": "markdown",
      "metadata": {
        "id": "v0hoK5uFTJc4"
      },
      "source": [
        "Catatan:<br>\n",
        "Setelah dilakukan handling outliers menggunakan IQR, dataset mengalami pengurangan data sebanyak **432 baris**. <br>\n",
        "Penghapusan data outliers di IQR lebih banyak dibandingkan dengan Z-Score. Sehingga kemungkinan handling outliers yang dipilih ialah menggunakan Z-Score."
      ]
    },
    {
      "cell_type": "markdown",
      "metadata": {
        "id": "5AsaVA4RRioe"
      },
      "source": [
        "----\n",
        "----\n"
      ]
    },
    {
      "cell_type": "markdown",
      "metadata": {
        "id": "_dYKYvMSY1ur"
      },
      "source": [
        "## D. Feature Transformation"
      ]
    },
    {
      "cell_type": "markdown",
      "metadata": {
        "id": "I4ZL4ceOklze"
      },
      "source": [
        "### Normalization / Standardization <br>\n",
        "Dilakukan transformasi untuk fitur dengan distribusi skewed yaitu `CreditScore`,`Age`,`Balance`, dan `NumOfProducts`."
      ]
    },
    {
      "cell_type": "code",
      "execution_count": 20,
      "metadata": {
        "colab": {
          "base_uri": "https://localhost:8080/",
          "height": 397
        },
        "id": "KhmvcapHdy6D",
        "outputId": "1f4fec0b-e6d9-43b7-a795-ddba7f29fc2f"
      },
      "outputs": [
        {
          "data": {
            "image/png": "[encoded data removed]",
            "text/plain": [
              "<Figure size 1500x500 with 6 Axes>"
            ]
          },
          "metadata": {},
          "output_type": "display_data"
        }
      ],
      "source": [
        "# melihat distribusi data (sebelum normalisasi / standardisasi)\n",
        "fig, axs = plt.subplots(1, len(nums), figsize=(15, 5))\n",
        "\n",
        "for i in range(len(nums)):\n",
        "    sns.boxplot(y=df_zscore[nums[i]], color='blue', ax=axs[i], orient='v')\n",
        "plt.tight_layout()\n",
        "plt.show()"
      ]
    },
    {
      "cell_type": "markdown",
      "metadata": {
        "id": "S2e0TGhvj5sT"
      },
      "source": [
        "Hasil Pengamatan: <br>\n",
        "Keenam dari kolom di atas memiliki skala dengan range yang berbeda-beda. <br> Sehingga perlu dilakukan transformasi fitur agar data memiliki skala yang sama."
      ]
    },
    {
      "cell_type": "code",
      "execution_count": 21,
      "metadata": {
        "id": "G3hKYDMXHkxd"
      },
      "outputs": [],
      "source": [
        "# lakukan normalisasi & standardisasi untuk fitur `CreditScore`,`Age`,`Balance`,`Tenure`,`EstimatedSalary`, dan `NumOfProducts`.\n",
        "from sklearn.preprocessing import MinMaxScaler, StandardScaler\n",
        "df_zscore['Tenure_norm'] = MinMaxScaler().fit_transform(df_zscore['Tenure'].values.reshape(len(df_zscore), 1))\n",
        "df_zscore['Tenure_std'] = StandardScaler().fit_transform(df_zscore['Tenure'].values.reshape(len(df_zscore), 1))\n",
        "\n",
        "df_zscore['EstimatedSalary_norm'] = MinMaxScaler().fit_transform(df_zscore['EstimatedSalary'].values.reshape(len(df_zscore), 1))\n",
        "df_zscore['EstimatedSalary_std'] = StandardScaler().fit_transform(df_zscore['EstimatedSalary'].values.reshape(len(df_zscore), 1))\n",
        "\n",
        "df_zscore['CreditScore_norm'] = MinMaxScaler().fit_transform(df_zscore['CreditScore'].values.reshape(len(df_zscore), 1))\n",
        "df_zscore['CreditScore_std'] = StandardScaler().fit_transform(df_zscore['CreditScore'].values.reshape(len(df_zscore), 1))\n",
        "\n",
        "df_zscore['Age_norm'] = MinMaxScaler().fit_transform(df_zscore['Age'].values.reshape(len(df_zscore), 1))\n",
        "df_zscore['Age_std'] = StandardScaler().fit_transform(df_zscore['Age'].values.reshape(len(df_zscore), 1))\n",
        "\n",
        "df_zscore['Balance_norm'] = MinMaxScaler().fit_transform(df_zscore['Balance'].values.reshape(len(df_zscore), 1))\n",
        "df_zscore['Balance_std'] = StandardScaler().fit_transform(df_zscore['Balance'].values.reshape(len(df_zscore), 1))\n",
        "\n",
        "df_zscore['NumOfProducts_norm'] = MinMaxScaler().fit_transform(df_zscore['NumOfProducts'].values.reshape(len(df_zscore), 1))\n",
        "df_zscore['NumOfProducts_std'] = StandardScaler().fit_transform(df_zscore['NumOfProducts'].values.reshape(len(df_zscore), 1))"
      ]
    },
    {
      "cell_type": "code",
      "execution_count": 22,
      "metadata": {
        "colab": {
          "base_uri": "https://localhost:8080/",
          "height": 320
        },
        "id": "TVzlBVkql-Cx",
        "outputId": "aabe83b9-ceaf-4c50-88ff-aea6939d4ad1"
      },
      "outputs": [
        {
          "data": {
            "text/html": [
              "<div>\n",
              "<style scoped>\n",
              "    .dataframe tbody tr th:only-of-type {\n",
              "        vertical-align: middle;\n",
              "    }\n",
              "\n",
              "    .dataframe tbody tr th {\n",
              "        vertical-align: top;\n",
              "    }\n",
              "\n",
              "    .dataframe thead th {\n",
              "        text-align: right;\n",
              "    }\n",
              "</style>\n",
              "<table border=\"1\" class=\"dataframe\">\n",
              "  <thead>\n",
              "    <tr style=\"text-align: right;\">\n",
              "      <th></th>\n",
              "      <th>EstimatedSalary</th>\n",
              "      <th>EstimatedSalary_norm</th>\n",
              "      <th>EstimatedSalary_std</th>\n",
              "      <th>Tenure</th>\n",
              "      <th>Tenure_norm</th>\n",
              "      <th>Tenure_std</th>\n",
              "      <th>CreditScore</th>\n",
              "      <th>CreditScore_norm</th>\n",
              "      <th>CreditScore_std</th>\n",
              "      <th>Age</th>\n",
              "      <th>Age_norm</th>\n",
              "      <th>Age_std</th>\n",
              "      <th>Balance</th>\n",
              "      <th>Balance_norm</th>\n",
              "      <th>Balance_std</th>\n",
              "      <th>NumOfProducts</th>\n",
              "      <th>NumOfProducts_norm</th>\n",
              "      <th>NumOfProducts_std</th>\n",
              "    </tr>\n",
              "  </thead>\n",
              "  <tbody>\n",
              "    <tr>\n",
              "      <th>count</th>\n",
              "      <td>9799.000000</td>\n",
              "      <td>9799.000000</td>\n",
              "      <td>9.799000e+03</td>\n",
              "      <td>9799.000000</td>\n",
              "      <td>9799.000000</td>\n",
              "      <td>9.799000e+03</td>\n",
              "      <td>9799.000000</td>\n",
              "      <td>9799.000000</td>\n",
              "      <td>9.799000e+03</td>\n",
              "      <td>9799.000000</td>\n",
              "      <td>9799.000000</td>\n",
              "      <td>9.799000e+03</td>\n",
              "      <td>9799.000000</td>\n",
              "      <td>9799.000000</td>\n",
              "      <td>9.799000e+03</td>\n",
              "      <td>9799.000000</td>\n",
              "      <td>9799.000000</td>\n",
              "      <td>9.799000e+03</td>\n",
              "    </tr>\n",
              "    <tr>\n",
              "      <th>mean</th>\n",
              "      <td>100029.359750</td>\n",
              "      <td>0.500137</td>\n",
              "      <td>-1.134809e-16</td>\n",
              "      <td>5.011532</td>\n",
              "      <td>0.501153</td>\n",
              "      <td>4.640753e-17</td>\n",
              "      <td>650.586693</td>\n",
              "      <td>0.590527</td>\n",
              "      <td>-2.363883e-16</td>\n",
              "      <td>38.384427</td>\n",
              "      <td>0.392008</td>\n",
              "      <td>-2.760885e-16</td>\n",
              "      <td>76472.676347</td>\n",
              "      <td>0.304796</td>\n",
              "      <td>2.827959e-17</td>\n",
              "      <td>1.515461</td>\n",
              "      <td>0.257730</td>\n",
              "      <td>-1.725780e-16</td>\n",
              "    </tr>\n",
              "    <tr>\n",
              "      <th>std</th>\n",
              "      <td>57495.943704</td>\n",
              "      <td>0.287507</td>\n",
              "      <td>1.000051e+00</td>\n",
              "      <td>2.890915</td>\n",
              "      <td>0.289091</td>\n",
              "      <td>1.000051e+00</td>\n",
              "      <td>96.341265</td>\n",
              "      <td>0.197826</td>\n",
              "      <td>1.000051e+00</td>\n",
              "      <td>9.663426</td>\n",
              "      <td>0.185835</td>\n",
              "      <td>1.000051e+00</td>\n",
              "      <td>62407.290305</td>\n",
              "      <td>0.248736</td>\n",
              "      <td>1.000051e+00</td>\n",
              "      <td>0.550882</td>\n",
              "      <td>0.275441</td>\n",
              "      <td>1.000051e+00</td>\n",
              "    </tr>\n",
              "    <tr>\n",
              "      <th>min</th>\n",
              "      <td>11.580000</td>\n",
              "      <td>0.000000</td>\n",
              "      <td>-1.739651e+00</td>\n",
              "      <td>0.000000</td>\n",
              "      <td>0.000000</td>\n",
              "      <td>-1.733634e+00</td>\n",
              "      <td>363.000000</td>\n",
              "      <td>0.000000</td>\n",
              "      <td>-2.985236e+00</td>\n",
              "      <td>18.000000</td>\n",
              "      <td>0.000000</td>\n",
              "      <td>-2.109549e+00</td>\n",
              "      <td>0.000000</td>\n",
              "      <td>0.000000</td>\n",
              "      <td>-1.225443e+00</td>\n",
              "      <td>1.000000</td>\n",
              "      <td>0.000000</td>\n",
              "      <td>-9.357488e-01</td>\n",
              "    </tr>\n",
              "    <tr>\n",
              "      <th>25%</th>\n",
              "      <td>50992.930000</td>\n",
              "      <td>0.254931</td>\n",
              "      <td>-8.529112e-01</td>\n",
              "      <td>3.000000</td>\n",
              "      <td>0.300000</td>\n",
              "      <td>-6.958470e-01</td>\n",
              "      <td>584.000000</td>\n",
              "      <td>0.453799</td>\n",
              "      <td>-6.911897e-01</td>\n",
              "      <td>32.000000</td>\n",
              "      <td>0.269231</td>\n",
              "      <td>-6.607132e-01</td>\n",
              "      <td>0.000000</td>\n",
              "      <td>0.000000</td>\n",
              "      <td>-1.225443e+00</td>\n",
              "      <td>1.000000</td>\n",
              "      <td>0.000000</td>\n",
              "      <td>-9.357488e-01</td>\n",
              "    </tr>\n",
              "    <tr>\n",
              "      <th>50%</th>\n",
              "      <td>100060.540000</td>\n",
              "      <td>0.500293</td>\n",
              "      <td>5.423311e-04</td>\n",
              "      <td>5.000000</td>\n",
              "      <td>0.500000</td>\n",
              "      <td>-3.989179e-03</td>\n",
              "      <td>652.000000</td>\n",
              "      <td>0.593429</td>\n",
              "      <td>1.467055e-02</td>\n",
              "      <td>37.000000</td>\n",
              "      <td>0.365385</td>\n",
              "      <td>-1.432719e-01</td>\n",
              "      <td>97133.920000</td>\n",
              "      <td>0.387145</td>\n",
              "      <td>3.310879e-01</td>\n",
              "      <td>1.000000</td>\n",
              "      <td>0.000000</td>\n",
              "      <td>-9.357488e-01</td>\n",
              "    </tr>\n",
              "    <tr>\n",
              "      <th>75%</th>\n",
              "      <td>149382.875000</td>\n",
              "      <td>0.746928</td>\n",
              "      <td>8.584264e-01</td>\n",
              "      <td>7.000000</td>\n",
              "      <td>0.700000</td>\n",
              "      <td>6.878686e-01</td>\n",
              "      <td>718.000000</td>\n",
              "      <td>0.728953</td>\n",
              "      <td>6.997702e-01</td>\n",
              "      <td>43.000000</td>\n",
              "      <td>0.480769</td>\n",
              "      <td>4.776576e-01</td>\n",
              "      <td>127638.135000</td>\n",
              "      <td>0.508725</td>\n",
              "      <td>8.199053e-01</td>\n",
              "      <td>2.000000</td>\n",
              "      <td>0.500000</td>\n",
              "      <td>8.796149e-01</td>\n",
              "    </tr>\n",
              "    <tr>\n",
              "      <th>max</th>\n",
              "      <td>199992.480000</td>\n",
              "      <td>1.000000</td>\n",
              "      <td>1.738700e+00</td>\n",
              "      <td>10.000000</td>\n",
              "      <td>1.000000</td>\n",
              "      <td>1.725655e+00</td>\n",
              "      <td>850.000000</td>\n",
              "      <td>1.000000</td>\n",
              "      <td>2.069970e+00</td>\n",
              "      <td>70.000000</td>\n",
              "      <td>1.000000</td>\n",
              "      <td>3.271840e+00</td>\n",
              "      <td>250898.090000</td>\n",
              "      <td>1.000000</td>\n",
              "      <td>2.795095e+00</td>\n",
              "      <td>3.000000</td>\n",
              "      <td>1.000000</td>\n",
              "      <td>2.694979e+00</td>\n",
              "    </tr>\n",
              "  </tbody>\n",
              "</table>\n",
              "</div>"
            ],
            "text/plain": [
              "       EstimatedSalary  EstimatedSalary_norm  EstimatedSalary_std  \\\n",
              "count      9799.000000           9799.000000         9.799000e+03   \n",
              "mean     100029.359750              0.500137        -1.134809e-16   \n",
              "std       57495.943704              0.287507         1.000051e+00   \n",
              "min          11.580000              0.000000        -1.739651e+00   \n",
              "25%       50992.930000              0.254931        -8.529112e-01   \n",
              "50%      100060.540000              0.500293         5.423311e-04   \n",
              "75%      149382.875000              0.746928         8.584264e-01   \n",
              "max      199992.480000              1.000000         1.738700e+00   \n",
              "\n",
              "            Tenure  Tenure_norm    Tenure_std  CreditScore  CreditScore_norm  \\\n",
              "count  9799.000000  9799.000000  9.799000e+03  9799.000000       9799.000000   \n",
              "mean      5.011532     0.501153  4.640753e-17   650.586693          0.590527   \n",
              "std       2.890915     0.289091  1.000051e+00    96.341265          0.197826   \n",
              "min       0.000000     0.000000 -1.733634e+00   363.000000          0.000000   \n",
              "25%       3.000000     0.300000 -6.958470e-01   584.000000          0.453799   \n",
              "50%       5.000000     0.500000 -3.989179e-03   652.000000          0.593429   \n",
              "75%       7.000000     0.700000  6.878686e-01   718.000000          0.728953   \n",
              "max      10.000000     1.000000  1.725655e+00   850.000000          1.000000   \n",
              "\n",
              "       CreditScore_std          Age     Age_norm       Age_std        Balance  \\\n",
              "count     9.799000e+03  9799.000000  9799.000000  9.799000e+03    9799.000000   \n",
              "mean     -2.363883e-16    38.384427     0.392008 -2.760885e-16   76472.676347   \n",
              "std       1.000051e+00     9.663426     0.185835  1.000051e+00   62407.290305   \n",
              "min      -2.985236e+00    18.000000     0.000000 -2.109549e+00       0.000000   \n",
              "25%      -6.911897e-01    32.000000     0.269231 -6.607132e-01       0.000000   \n",
              "50%       1.467055e-02    37.000000     0.365385 -1.432719e-01   97133.920000   \n",
              "75%       6.997702e-01    43.000000     0.480769  4.776576e-01  127638.135000   \n",
              "max       2.069970e+00    70.000000     1.000000  3.271840e+00  250898.090000   \n",
              "\n",
              "       Balance_norm   Balance_std  NumOfProducts  NumOfProducts_norm  \\\n",
              "count   9799.000000  9.799000e+03    9799.000000         9799.000000   \n",
              "mean       0.304796  2.827959e-17       1.515461            0.257730   \n",
              "std        0.248736  1.000051e+00       0.550882            0.275441   \n",
              "min        0.000000 -1.225443e+00       1.000000            0.000000   \n",
              "25%        0.000000 -1.225443e+00       1.000000            0.000000   \n",
              "50%        0.387145  3.310879e-01       1.000000            0.000000   \n",
              "75%        0.508725  8.199053e-01       2.000000            0.500000   \n",
              "max        1.000000  2.795095e+00       3.000000            1.000000   \n",
              "\n",
              "       NumOfProducts_std  \n",
              "count       9.799000e+03  \n",
              "mean       -1.725780e-16  \n",
              "std         1.000051e+00  \n",
              "min        -9.357488e-01  \n",
              "25%        -9.357488e-01  \n",
              "50%        -9.357488e-01  \n",
              "75%         8.796149e-01  \n",
              "max         2.694979e+00  "
            ]
          },
          "execution_count": 22,
          "metadata": {},
          "output_type": "execute_result"
        }
      ],
      "source": [
        "# cek keberhasilan feature transformation\n",
        "new_numeric = ['EstimatedSalary','EstimatedSalary_norm','EstimatedSalary_std','Tenure','Tenure_norm','Tenure_std','CreditScore','CreditScore_norm','CreditScore_std','Age','Age_norm','Age_std','Balance','Balance_norm','Balance_std','NumOfProducts','NumOfProducts_norm','NumOfProducts_std']\n",
        "df_zscore[new_numeric].describe()\n",
        "\n"
      ]
    },
    {
      "cell_type": "markdown",
      "metadata": {
        "id": "nzC7Vc03bOD_"
      },
      "source": [
        "Hasil yang diharapkan: <br>\n",
        "* Normalization:  proses mengubah nilai-nilai suatu feature menjadi skala tertentu (0-1).\n",
        "* Standardization: proses mengubah nilai-nilai feature sehingga mean = 0 dan std=1.\n",
        "\n",
        "Hasil pengamatan:<br>\n",
        "**`EstimatedSalary`**\n",
        "- `EstimatedSalary_norm`: range min 0 - max 1 berhasil.\n",
        "- `EstimatedSalary_std`: mean = -1.1e-16 dan std = 1.\n",
        "\n",
        "**`Tenure`**\n",
        "- `Tenure_norm`: range min 0 - max 1 berhasil.\n",
        "- `Tenure_std`: mean = -4.6e-17 dan std = 1.\n",
        "\n",
        "**`CreditScore`**\n",
        "- `CreditScore_norm`: range min 0 -- max 1 berhasil.\n",
        "- `CreditScore_std`: mean = -2 dan std = 1. Kurang sesuai dengan hasil yang diharapkan.\n",
        "\n",
        "**`Age`**\n",
        "- `Age_norm`: range min 0 -- max 1 berhasil.\n",
        "- `Age_std`: mean = -2 dan std = 1. Kurang sesuai dengan hasil yang diharapkan.\n",
        "\n",
        "**`Balance`**\n",
        "- `Balance_norm`: range min 0 - max 1 berhasil.\n",
        "- `Balance_std`: mean = 2,8 dan std = 1.\n",
        "\n",
        "**`NumOfProducts`**\n",
        "- `NumOfProducts_norm`: range min 0 - max 1 berhasil.\n",
        "- `NumOfProducts_std`: mean = -1,7 dan std = 1.\n"
      ]
    },
    {
      "cell_type": "markdown",
      "metadata": {
        "id": "-VWFE8MBMTtj"
      },
      "source": [
        "**Kesimpulan Feature Transformation:** <br>\n",
        "Berdasarkan uji coba dari transformasi fitur, disimpulkan bahwa \"Normalization\" yang akan dipilih untuk processing selanjutnya karena hasil scaling yang lebih sesuai dengan hasil yang diharapkan."
      ]
    },
    {
      "cell_type": "code",
      "execution_count": 23,
      "metadata": {
        "id": "QVeStoohM0i6"
      },
      "outputs": [],
      "source": [
        "# Kolom-kolom yang akan dihapus\n",
        "columns_to_drop = ['CreditScore','CreditScore_std','Age','Age_std','Balance','Balance_std',\n",
        "                   'NumOfProducts','NumOfProducts_std','Tenure','Tenure_std','EstimatedSalary','EstimatedSalary_std']\n",
        "\n",
        "try:\n",
        "    # Hapus kolom-kolom yang ada dalam list columns_to_drop\n",
        "    df_zscore = df_zscore.drop(columns=columns_to_drop)\n",
        "except KeyError as e:\n",
        "    # Tangani pengecualian jika kolom tidak ada dalam DataFrame\n",
        "    print(f\"Exception: {e} tidak ada dalam DataFrame\")\n",
        "\n"
      ]
    },
    {
      "cell_type": "code",
      "execution_count": 24,
      "metadata": {
        "colab": {
          "base_uri": "https://localhost:8080/",
          "height": 397
        },
        "id": "T8852G14b25D",
        "outputId": "a66ccab9-ee9b-4236-d725-85accf20066a"
      },
      "outputs": [
        {
          "data": {
            "image/png": "[encoded data removed]",
            "text/plain": [
              "<Figure size 1500x600 with 6 Axes>"
            ]
          },
          "metadata": {},
          "output_type": "display_data"
        }
      ],
      "source": [
        "# hanya tambahan: melihat distribusi data (setelah normalisasi / standardisasi)\n",
        "nums_norm = ['CreditScore_norm', 'Age_norm', 'Balance_norm', \n",
        "             'NumOfProducts_norm','EstimatedSalary_norm','Tenure_norm']\n",
        "fig, axs = plt.subplots(1, len(nums_norm), figsize=(15, 6))\n",
        "\n",
        "for i in range(len(nums_norm)):\n",
        "    sns.boxplot(y=df_zscore[nums_norm[i]], color='blue', ax=axs[i], orient='v')\n",
        "plt.tight_layout()\n",
        "plt.show()"
      ]
    },
    {
      "cell_type": "markdown",
      "metadata": {
        "id": "BkeGG8PIfoWW"
      },
      "source": [
        "Hasil Pengamatan: <br>\n",
        "Dibandingkan dengan boxplot sebelum normalisasi, fitur `CreditScore_norm`, `Age_norm`, `Balance_norm`, `NumOfProducts_norm`,`Tenure_norm`,`EstimatdSalary_norm` kini telah memiliki skala yang sama yaitu di range 0-1."
      ]
    },
    {
      "cell_type": "markdown",
      "metadata": {
        "id": "vBB_vjMX06IC"
      },
      "source": [
        "### 5. Feature Encoding\n",
        "Proses mengubah feature categorical menjadi feature numerical."
      ]
    },
    {
      "cell_type": "code",
      "execution_count": 25,
      "metadata": {
        "colab": {
          "base_uri": "https://localhost:8080/"
        },
        "id": "YRFTTdSLc_xh",
        "outputId": "7b3593a9-2a22-468c-8a76-a8f6b900f326"
      },
      "outputs": [
        {
          "data": {
            "text/plain": [
              "Index(['Geography', 'Gender', 'HasCrCard', 'IsActiveMember', 'Exited',\n",
              "       'Tenure_norm', 'EstimatedSalary_norm', 'CreditScore_norm', 'Age_norm',\n",
              "       'Balance_norm', 'NumOfProducts_norm'],\n",
              "      dtype='object')"
            ]
          },
          "execution_count": 25,
          "metadata": {},
          "output_type": "execute_result"
        }
      ],
      "source": [
        "df_zscore.columns"
      ]
    },
    {
      "cell_type": "markdown",
      "metadata": {
        "id": "dKK8gqROotzm"
      },
      "source": [
        "Pengamatan: <br>\n",
        "  - `IsActiveMember`,`HasCrCard`,`Exited` : sudah merupakan tipe data boolean sehingga tidak diperlukan encoding.<br>\n",
        "  - `Geography`,`Gender`, dan `NumOfProducts` : bukan merupakan tipe data ordinal (punya urutan), sehingga tahap feature encoding lebih cocok menggunakan One Hot Encoding (OHE)."
      ]
    },
    {
      "cell_type": "markdown",
      "metadata": {
        "id": "DwXlOUd6oRuR"
      },
      "source": [
        "## One Hot Encoding (OHE)"
      ]
    },
    {
      "cell_type": "code",
      "execution_count": 26,
      "metadata": {
        "colab": {
          "base_uri": "https://localhost:8080/"
        },
        "id": "usMi7rmFPna3",
        "outputId": "dbb82236-3913-4f77-9034-c983731611ea"
      },
      "outputs": [
        {
          "name": "stdout",
          "output_type": "stream",
          "text": [
            "  Exited  Tenure_norm  EstimatedSalary_norm  CreditScore_norm  Age_norm  \\\n",
            "0      1          0.2              0.506735          0.525667  0.461538   \n",
            "1      0          0.1              0.562709          0.503080  0.442308   \n",
            "2      1          0.8              0.569654          0.285421  0.461538   \n",
            "3      0          0.1              0.469120          0.689938  0.403846   \n",
            "4      0          0.2              0.395400          1.000000  0.480769   \n",
            "\n",
            "   Balance_norm  Geography_Germany  Geography_Spain  Gender_Male  \\\n",
            "0      0.000000              False            False        False   \n",
            "1      0.334031              False             True        False   \n",
            "2      0.636357              False            False        False   \n",
            "3      0.000000              False            False        False   \n",
            "4      0.500246              False             True        False   \n",
            "\n",
            "   IsActiveMember_1  HasCrCard_1  NumOfProducts_norm_0.5  \\\n",
            "0              True         True                   False   \n",
            "1              True        False                   False   \n",
            "2             False         True                   False   \n",
            "3             False        False                    True   \n",
            "4              True         True                   False   \n",
            "\n",
            "   NumOfProducts_norm_1.0  \n",
            "0                   False  \n",
            "1                   False  \n",
            "2                    True  \n",
            "3                   False  \n",
            "4                   False  \n"
          ]
        }
      ],
      "source": [
        "# Definisi variabel kategorikal untuk di-encode\n",
        "cats_updated = ['Geography', 'Gender', 'IsActiveMember', 'HasCrCard', 'NumOfProducts_norm']\n",
        "\n",
        "try:\n",
        "    # Melakukan one-hot encoding\n",
        "    df_encoded = pd.get_dummies(df_zscore, columns=cats_updated, drop_first=True)\n",
        "    \n",
        "    # Menampilkan beberapa baris pertama dari dataframe yang telah di-encoded\n",
        "    print(df_encoded.head())\n",
        "except KeyError as e:\n",
        "    print(f\"Error: {e}. Pastikan semua kolom yang ingin di-encode ada dalam DataFrame.\")\n"
      ]
    },
    {
      "cell_type": "code",
      "execution_count": 27,
      "metadata": {},
      "outputs": [
        {
          "data": {
            "text/html": [
              "<div>\n",
              "<style scoped>\n",
              "    .dataframe tbody tr th:only-of-type {\n",
              "        vertical-align: middle;\n",
              "    }\n",
              "\n",
              "    .dataframe tbody tr th {\n",
              "        vertical-align: top;\n",
              "    }\n",
              "\n",
              "    .dataframe thead th {\n",
              "        text-align: right;\n",
              "    }\n",
              "</style>\n",
              "<table border=\"1\" class=\"dataframe\">\n",
              "  <thead>\n",
              "    <tr style=\"text-align: right;\">\n",
              "      <th></th>\n",
              "      <th>Exited</th>\n",
              "      <th>Tenure_norm</th>\n",
              "      <th>EstimatedSalary_norm</th>\n",
              "      <th>CreditScore_norm</th>\n",
              "      <th>Age_norm</th>\n",
              "      <th>Balance_norm</th>\n",
              "      <th>Geography_Germany</th>\n",
              "      <th>Geography_Spain</th>\n",
              "      <th>Gender_Male</th>\n",
              "      <th>IsActiveMember_1</th>\n",
              "      <th>HasCrCard_1</th>\n",
              "      <th>NumOfProducts_norm_0.5</th>\n",
              "      <th>NumOfProducts_norm_1.0</th>\n",
              "    </tr>\n",
              "  </thead>\n",
              "  <tbody>\n",
              "    <tr>\n",
              "      <th>0</th>\n",
              "      <td>1</td>\n",
              "      <td>0.2</td>\n",
              "      <td>0.506735</td>\n",
              "      <td>0.525667</td>\n",
              "      <td>0.461538</td>\n",
              "      <td>0.000000</td>\n",
              "      <td>False</td>\n",
              "      <td>False</td>\n",
              "      <td>False</td>\n",
              "      <td>True</td>\n",
              "      <td>True</td>\n",
              "      <td>False</td>\n",
              "      <td>False</td>\n",
              "    </tr>\n",
              "    <tr>\n",
              "      <th>1</th>\n",
              "      <td>0</td>\n",
              "      <td>0.1</td>\n",
              "      <td>0.562709</td>\n",
              "      <td>0.503080</td>\n",
              "      <td>0.442308</td>\n",
              "      <td>0.334031</td>\n",
              "      <td>False</td>\n",
              "      <td>True</td>\n",
              "      <td>False</td>\n",
              "      <td>True</td>\n",
              "      <td>False</td>\n",
              "      <td>False</td>\n",
              "      <td>False</td>\n",
              "    </tr>\n",
              "    <tr>\n",
              "      <th>2</th>\n",
              "      <td>1</td>\n",
              "      <td>0.8</td>\n",
              "      <td>0.569654</td>\n",
              "      <td>0.285421</td>\n",
              "      <td>0.461538</td>\n",
              "      <td>0.636357</td>\n",
              "      <td>False</td>\n",
              "      <td>False</td>\n",
              "      <td>False</td>\n",
              "      <td>False</td>\n",
              "      <td>True</td>\n",
              "      <td>False</td>\n",
              "      <td>True</td>\n",
              "    </tr>\n",
              "    <tr>\n",
              "      <th>3</th>\n",
              "      <td>0</td>\n",
              "      <td>0.1</td>\n",
              "      <td>0.469120</td>\n",
              "      <td>0.689938</td>\n",
              "      <td>0.403846</td>\n",
              "      <td>0.000000</td>\n",
              "      <td>False</td>\n",
              "      <td>False</td>\n",
              "      <td>False</td>\n",
              "      <td>False</td>\n",
              "      <td>False</td>\n",
              "      <td>True</td>\n",
              "      <td>False</td>\n",
              "    </tr>\n",
              "    <tr>\n",
              "      <th>4</th>\n",
              "      <td>0</td>\n",
              "      <td>0.2</td>\n",
              "      <td>0.395400</td>\n",
              "      <td>1.000000</td>\n",
              "      <td>0.480769</td>\n",
              "      <td>0.500246</td>\n",
              "      <td>False</td>\n",
              "      <td>True</td>\n",
              "      <td>False</td>\n",
              "      <td>True</td>\n",
              "      <td>True</td>\n",
              "      <td>False</td>\n",
              "      <td>False</td>\n",
              "    </tr>\n",
              "  </tbody>\n",
              "</table>\n",
              "</div>"
            ],
            "text/plain": [
              "  Exited  Tenure_norm  EstimatedSalary_norm  CreditScore_norm  Age_norm  \\\n",
              "0      1          0.2              0.506735          0.525667  0.461538   \n",
              "1      0          0.1              0.562709          0.503080  0.442308   \n",
              "2      1          0.8              0.569654          0.285421  0.461538   \n",
              "3      0          0.1              0.469120          0.689938  0.403846   \n",
              "4      0          0.2              0.395400          1.000000  0.480769   \n",
              "\n",
              "   Balance_norm  Geography_Germany  Geography_Spain  Gender_Male  \\\n",
              "0      0.000000              False            False        False   \n",
              "1      0.334031              False             True        False   \n",
              "2      0.636357              False            False        False   \n",
              "3      0.000000              False            False        False   \n",
              "4      0.500246              False             True        False   \n",
              "\n",
              "   IsActiveMember_1  HasCrCard_1  NumOfProducts_norm_0.5  \\\n",
              "0              True         True                   False   \n",
              "1              True        False                   False   \n",
              "2             False         True                   False   \n",
              "3             False        False                    True   \n",
              "4              True         True                   False   \n",
              "\n",
              "   NumOfProducts_norm_1.0  \n",
              "0                   False  \n",
              "1                   False  \n",
              "2                    True  \n",
              "3                   False  \n",
              "4                   False  "
            ]
          },
          "execution_count": 27,
          "metadata": {},
          "output_type": "execute_result"
        }
      ],
      "source": [
        "df_encoded.head()"
      ]
    },
    {
      "cell_type": "markdown",
      "metadata": {
        "id": "2P9PeLhEklzo"
      },
      "source": [
        "## H. Handle class imbalance"
      ]
    },
    {
      "cell_type": "markdown",
      "metadata": {},
      "source": [
        "dikarenakan variabel target yaitu `Exited` memiliki perbandingan yang lebih sedikit untuk Customer yang churn dibandingan Customer yang Retaine, maka dilakukan over sampling agar datanya sebanding."
      ]
    },
    {
      "cell_type": "markdown",
      "metadata": {},
      "source": [
        "### Handling Imbalance Class dengan Metode Over Sampling"
      ]
    },
    {
      "cell_type": "code",
      "execution_count": 28,
      "metadata": {
        "colab": {
          "base_uri": "https://localhost:8080/"
        },
        "id": "ZWY6lJs8r4Vv",
        "outputId": "dbe2cad3-bace-4d22-8d54-55edada5e266"
      },
      "outputs": [],
      "source": [
        "from sklearn.utils import resample\n",
        "\n",
        "# Memisahkan dataset menjadi churn dan tidak churn\n",
        "df_churn = df_encoded[df_encoded['Exited'] == 1]\n",
        "df_not_churn = df_encoded[df_encoded['Exited'] == 0]\n",
        "\n"
      ]
    },
    {
      "cell_type": "code",
      "execution_count": 29,
      "metadata": {
        "ExecuteTime": {
          "end_time": "2020-08-30T05:02:10.853740Z",
          "start_time": "2020-08-30T05:02:10.812762Z"
        },
        "colab": {
          "base_uri": "https://localhost:8080/"
        },
        "id": "jUBkbWeTklzr",
        "outputId": "1a11723b-5992-4120-e5b4-26062f49b393"
      },
      "outputs": [
        {
          "data": {
            "text/plain": [
              "Exited\n",
              "0    0.5\n",
              "1    0.5\n",
              "Name: proportion, dtype: float64"
            ]
          },
          "execution_count": 29,
          "metadata": {},
          "output_type": "execute_result"
        }
      ],
      "source": [
        "\n",
        "# Melakukan random oversampling pada data churn\n",
        "df_churn_oversampled = resample(df_churn, replace=True, n_samples=len(df_not_churn), random_state=42)\n",
        "\n",
        "# Menggabungkan kembali dataset yang telah disampling ulang\n",
        "df_oversampled = pd.concat([df_not_churn, df_churn_oversampled])\n",
        "\n",
        "# Cek distribusi kelas setelah oversampling\n",
        "distribution_oversampled = df_oversampled['Exited'].value_counts(normalize=True)\n",
        "\n",
        "distribution_oversampled"
      ]
    },
    {
      "cell_type": "code",
      "execution_count": 30,
      "metadata": {},
      "outputs": [
        {
          "data": {
            "text/html": [
              "<div>\n",
              "<style scoped>\n",
              "    .dataframe tbody tr th:only-of-type {\n",
              "        vertical-align: middle;\n",
              "    }\n",
              "\n",
              "    .dataframe tbody tr th {\n",
              "        vertical-align: top;\n",
              "    }\n",
              "\n",
              "    .dataframe thead th {\n",
              "        text-align: right;\n",
              "    }\n",
              "</style>\n",
              "<table border=\"1\" class=\"dataframe\">\n",
              "  <thead>\n",
              "    <tr style=\"text-align: right;\">\n",
              "      <th></th>\n",
              "      <th>Exited</th>\n",
              "      <th>Tenure_norm</th>\n",
              "      <th>EstimatedSalary_norm</th>\n",
              "      <th>CreditScore_norm</th>\n",
              "      <th>Age_norm</th>\n",
              "      <th>Balance_norm</th>\n",
              "      <th>Geography_Germany</th>\n",
              "      <th>Geography_Spain</th>\n",
              "      <th>Gender_Male</th>\n",
              "      <th>IsActiveMember_1</th>\n",
              "      <th>HasCrCard_1</th>\n",
              "      <th>NumOfProducts_norm_0.5</th>\n",
              "      <th>NumOfProducts_norm_1.0</th>\n",
              "    </tr>\n",
              "  </thead>\n",
              "  <tbody>\n",
              "    <tr>\n",
              "      <th>1</th>\n",
              "      <td>0</td>\n",
              "      <td>0.1</td>\n",
              "      <td>0.562709</td>\n",
              "      <td>0.503080</td>\n",
              "      <td>0.442308</td>\n",
              "      <td>0.334031</td>\n",
              "      <td>False</td>\n",
              "      <td>True</td>\n",
              "      <td>False</td>\n",
              "      <td>True</td>\n",
              "      <td>False</td>\n",
              "      <td>False</td>\n",
              "      <td>False</td>\n",
              "    </tr>\n",
              "    <tr>\n",
              "      <th>3</th>\n",
              "      <td>0</td>\n",
              "      <td>0.1</td>\n",
              "      <td>0.469120</td>\n",
              "      <td>0.689938</td>\n",
              "      <td>0.403846</td>\n",
              "      <td>0.000000</td>\n",
              "      <td>False</td>\n",
              "      <td>False</td>\n",
              "      <td>False</td>\n",
              "      <td>False</td>\n",
              "      <td>False</td>\n",
              "      <td>True</td>\n",
              "      <td>False</td>\n",
              "    </tr>\n",
              "    <tr>\n",
              "      <th>4</th>\n",
              "      <td>0</td>\n",
              "      <td>0.2</td>\n",
              "      <td>0.395400</td>\n",
              "      <td>1.000000</td>\n",
              "      <td>0.480769</td>\n",
              "      <td>0.500246</td>\n",
              "      <td>False</td>\n",
              "      <td>True</td>\n",
              "      <td>False</td>\n",
              "      <td>True</td>\n",
              "      <td>True</td>\n",
              "      <td>False</td>\n",
              "      <td>False</td>\n",
              "    </tr>\n",
              "    <tr>\n",
              "      <th>6</th>\n",
              "      <td>0</td>\n",
              "      <td>0.7</td>\n",
              "      <td>0.050261</td>\n",
              "      <td>0.942505</td>\n",
              "      <td>0.615385</td>\n",
              "      <td>0.000000</td>\n",
              "      <td>False</td>\n",
              "      <td>False</td>\n",
              "      <td>True</td>\n",
              "      <td>True</td>\n",
              "      <td>True</td>\n",
              "      <td>True</td>\n",
              "      <td>False</td>\n",
              "    </tr>\n",
              "    <tr>\n",
              "      <th>8</th>\n",
              "      <td>0</td>\n",
              "      <td>0.4</td>\n",
              "      <td>0.374680</td>\n",
              "      <td>0.283368</td>\n",
              "      <td>0.500000</td>\n",
              "      <td>0.566170</td>\n",
              "      <td>False</td>\n",
              "      <td>False</td>\n",
              "      <td>True</td>\n",
              "      <td>True</td>\n",
              "      <td>False</td>\n",
              "      <td>True</td>\n",
              "      <td>False</td>\n",
              "    </tr>\n",
              "  </tbody>\n",
              "</table>\n",
              "</div>"
            ],
            "text/plain": [
              "  Exited  Tenure_norm  EstimatedSalary_norm  CreditScore_norm  Age_norm  \\\n",
              "1      0          0.1              0.562709          0.503080  0.442308   \n",
              "3      0          0.1              0.469120          0.689938  0.403846   \n",
              "4      0          0.2              0.395400          1.000000  0.480769   \n",
              "6      0          0.7              0.050261          0.942505  0.615385   \n",
              "8      0          0.4              0.374680          0.283368  0.500000   \n",
              "\n",
              "   Balance_norm  Geography_Germany  Geography_Spain  Gender_Male  \\\n",
              "1      0.334031              False             True        False   \n",
              "3      0.000000              False            False        False   \n",
              "4      0.500246              False             True        False   \n",
              "6      0.000000              False            False         True   \n",
              "8      0.566170              False            False         True   \n",
              "\n",
              "   IsActiveMember_1  HasCrCard_1  NumOfProducts_norm_0.5  \\\n",
              "1              True        False                   False   \n",
              "3             False        False                    True   \n",
              "4              True         True                   False   \n",
              "6              True         True                    True   \n",
              "8              True        False                    True   \n",
              "\n",
              "   NumOfProducts_norm_1.0  \n",
              "1                   False  \n",
              "3                   False  \n",
              "4                   False  \n",
              "6                   False  \n",
              "8                   False  "
            ]
          },
          "execution_count": 30,
          "metadata": {},
          "output_type": "execute_result"
        }
      ],
      "source": [
        "df_oversampled.head()"
      ]
    },
    {
      "cell_type": "markdown",
      "metadata": {},
      "source": [
        "### Menampilkan hasil Handling Imbalance Class"
      ]
    },
    {
      "cell_type": "code",
      "execution_count": 31,
      "metadata": {},
      "outputs": [
        {
          "data": {
            "image/png": "[encoded data removed]",
            "text/plain": [
              "<Figure size 1000x800 with 1 Axes>"
            ]
          },
          "metadata": {},
          "output_type": "display_data"
        }
      ],
      "source": [
        "# Menghitung jumlah kasus untuk setiap kategori dalam 'Exited'\n",
        "sizes = [df_oversampled.Exited[df_oversampled['Exited']==1].count(), df_oversampled.Exited[df_oversampled['Exited']==0].count()]\n",
        "labels = 'Exited', 'Retained'\n",
        "explode = (0, 0.1)  # untuk menonjolkan slice pie\n",
        "warna = ['#007acc', '#00cc66']\n",
        "\n",
        "# Membuat pie chart\n",
        "fig1, ax1 = plt.subplots(figsize=(10, 8))\n",
        "ax1.pie(sizes, explode=explode, labels=labels, autopct='%1.1f%%',\n",
        "        shadow=True, startangle=120, colors=warna)\n",
        "ax1.axis('equal')  # Equal aspect ratio ensures that pie is drawn as a circle.\n",
        "plt.title(\"Proportion of customer churned and retained\", size = 20)\n",
        "plt.show()"
      ]
    },
    {
      "cell_type": "markdown",
      "metadata": {},
      "source": [
        "# 2. Feature Engineering"
      ]
    },
    {
      "cell_type": "markdown",
      "metadata": {},
      "source": [
        "## Melakukan Uji Korelasi Antar Variabel"
      ]
    },
    {
      "cell_type": "markdown",
      "metadata": {},
      "source": [
        "Uji Korelasi dilakukan dengan metode statistik yaitu Chi Square"
      ]
    },
    {
      "cell_type": "code",
      "execution_count": 32,
      "metadata": {},
      "outputs": [
        {
          "name": "stdout",
          "output_type": "stream",
          "text": [
            "                             Variabel  Statistik Chi-square        P-value\n",
            "0              Exited dan Tenure_norm             60.017204   3.597236e-09\n",
            "1     Exited dan EstimatedSalary_norm          15682.000000  5.780629e-284\n",
            "2         Exited dan CreditScore_norm           1290.007658   6.302732e-81\n",
            "3                 Exited dan Age_norm           3128.114093   0.000000e+00\n",
            "4             Exited dan Balance_norm          10926.538795  1.198253e-263\n",
            "5        Exited dan Geography_Germany            740.789794  4.036904e-163\n",
            "6          Exited dan Geography_Spain             85.376184   2.466738e-20\n",
            "7              Exited dan Gender_Male            252.117650   8.969753e-57\n",
            "8         Exited dan IsActiveMember_1            583.001884  8.338975e-129\n",
            "9              Exited dan HasCrCard_1              3.739780   5.313146e-02\n",
            "10  Exited dan NumOfProducts_norm_0.5           2172.306717   0.000000e+00\n",
            "11  Exited dan NumOfProducts_norm_1.0            751.664632  1.743617e-165\n"
          ]
        }
      ],
      "source": [
        "from scipy.stats import chi2_contingency\n",
        "# Menampilkan beberapa baris pertama dari dataset\n",
        "df_oversampled.head()\n",
        "\n",
        "# Membuat list kosong untuk menyimpan hasil Chi-square\n",
        "result_data = []\n",
        "\n",
        "# Menentukan variabel target\n",
        "kolom_target = 'Exited'\n",
        "\n",
        "# Loop melalui kolom-kolom lainnya untuk menghitung Chi-square\n",
        "for kolom in df_oversampled.columns:\n",
        "    if kolom != kolom_target:\n",
        "        tabel_kontingensi = pd.crosstab(df_oversampled[kolom_target], df_oversampled[kolom])\n",
        "        chi2, p_value, _, _ = chi2_contingency(tabel_kontingensi)\n",
        "        result_data.append({'Variabel': f'{kolom_target} dan {kolom}',\n",
        "                            'Statistik Chi-square': chi2,\n",
        "                            'P-value': p_value})\n",
        "\n",
        "# Membuat DataFrame dari list hasil Chi-square\n",
        "result_table = pd.DataFrame(result_data)\n",
        "\n",
        "# Menampilkan tabel hasil Chi-square\n",
        "print(result_table)"
      ]
    },
    {
      "cell_type": "markdown",
      "metadata": {},
      "source": [
        "### Kesimpulan Hasil Uji Chi-Square"
      ]
    },
    {
      "cell_type": "markdown",
      "metadata": {},
      "source": [
        "Hasil uji Chi-square digunakan untuk mengevaluasi hubungan statistik yang signifikan antara variabel \"Exited\" (keluar) dan variabel-variabel lainnya dalam dataset. Berikut adalah ringkasan hasil uji untuk masing-masing variabel:\n",
        "\n",
        "1. **Exited vs. Tenure_norm**:\n",
        "   - Statistik Chi-square: 60.02\n",
        "   - P-value: 3.60e-09 (sangat mendekati nol)\n",
        "   - **Kesimpulan**: Terdapat hubungan yang sangat signifikan antara variabel \"Exited\" dan \"Tenure_norm,\" karena nilai p-value sangat kecil.\n",
        "\n",
        "2. **Exited vs. EstimatedSalary_norm**:\n",
        "   - Statistik Chi-square: 15682.0\n",
        "   - P-value: 5.78e-284 (sangat mendekati nol)\n",
        "   - **Kesimpulan**: Terdapat hubungan yang sangat signifikan antara variabel \"Exited\" dan \"EstimatedSalary_norm,\" karena nilai p-value sangat kecil.\n",
        "\n",
        "3. **Exited vs. CreditScore_norm**:\n",
        "   - Statistik Chi-square: 1290.01\n",
        "   - P-value: 6.30e-81 (sangat mendekati nol)\n",
        "   - **Kesimpulan**: Terdapat hubungan yang sangat signifikan antara variabel \"Exited\" dan \"CreditScore_norm,\" karena nilai p-value sangat kecil.\n",
        "\n",
        "4. **Exited vs. Age_norm**:\n",
        "   - Statistik Chi-square: 3128.11\n",
        "   - P-value: 0.0\n",
        "   - **Kesimpulan**: Terdapat hubungan yang sangat signifikan antara variabel \"Exited\" dan \"Age_norm,\" karena nilai p-value sangat kecil.\n",
        "\n",
        "5. **Exited vs. Balance_norm**:\n",
        "   - Statistik Chi-square: 10926.54\n",
        "   - P-value: 1.20e-263 (sangat mendekati nol)\n",
        "   - **Kesimpulan**: Terdapat hubungan yang sangat signifikan antara variabel \"Exited\" dan \"Balance_norm,\" karena nilai p-value sangat kecil.\n",
        "\n",
        "6. **Exited vs. Geography_Germany**:\n",
        "   - Statistik Chi-square: 740.79\n",
        "   - P-value: 4.04e-163 (sangat mendekati nol)\n",
        "   - **Kesimpulan**: Terdapat hubungan yang sangat signifikan antara variabel \"Exited\" dan \"Geography_Germany,\" karena nilai p-value sangat kecil.\n",
        "\n",
        "7. **Exited vs. Geography_Spain**:\n",
        "   - Statistik Chi-square: 85.38\n",
        "   - P-value: 2.47e-20 (sangat mendekati nol)\n",
        "   - **Kesimpulan**: Terdapat hubungan yang sangat signifikan antara variabel \"Exited\" dan \"Geography_Spain,\" karena nilai p-value sangat kecil.\n",
        "\n",
        "8. **Exited vs. Gender_Male**:\n",
        "   - Statistik Chi-square: 252.12\n",
        "   - P-value: 8.97e-57 (sangat mendekati nol)\n",
        "   - **Kesimpulan**: Terdapat hubungan yang sangat signifikan antara variabel \"Exited\" dan \"Gender_Male,\" karena nilai p-value sangat kecil.\n",
        "\n",
        "9. **Exited vs. IsActiveMember_1**:\n",
        "   - Statistik Chi-square: 583.00\n",
        "   - P-value: 8.34e-129 (sangat mendekati nol)\n",
        "   - **Kesimpulan**: Terdapat hubungan yang sangat signifikan antara variabel \"Exited\" dan \"IsActiveMember_1,\" karena nilai p-value sangat kecil.\n",
        "\n",
        "10. **Exited vs. HasCrCard_1**:\n",
        "    - Statistik Chi-square: 3.74\n",
        "    - P-value: 0.0531\n",
        "    - **Kesimpulan**: Tidak terdapat hubungan yang signifikan antara variabel \"Exited\" dan \"HasCrCard_1,\" karena nilai p-value lebih besar dari tingkat signifikansi yang biasanya digunakan (0.05).\n",
        "\n",
        "11. **Exited vs. NumOfProducts_norm_0.5**:\n",
        "    - Statistik Chi-square: 2172.31\n",
        "    - P-value: 0.0\n",
        "    - **Kesimpulan**: Terdapat hubungan yang sangat signifikan antara variabel \"Exited\" dan \"NumOfProducts_norm_0.5,\" karena nilai p-value sangat kecil.\n",
        "\n",
        "12. **Exited vs. NumOfProducts_norm_1.0**:\n",
        "    - Statistik Chi-square: 751.66\n",
        "    - P-value: 1.74e-165 (sangat mendekati nol)\n",
        "    - **Kesimpulan**: Terdapat hubungan yang sangat signifikan antara variabel \"Exited\" dan \"NumOfProducts_norm_1.0,\" karena nilai p-value sangat kecil.\n",
        "\n",
        "Dalam semua kasus di atas, nilai p-value yang sangat rendah menunjukkan adanya hubungan yang signifikan antara variabel \"Exited\" dan variabel-variabel yang diuji, kecuali untuk `HasCrCard_1` yang tidak memiliki hubungan yang signifikan. Oleh karena itu, hasil uji Chi-square memberikan wawasan tentang faktor-faktor yang memengaruhi keputusan pelanggan untuk keluar (Exited) atau tetap berada di bank.\n"
      ]
    },
    {
      "cell_type": "markdown",
      "metadata": {},
      "source": [
        "### A. Feature selection"
      ]
    },
    {
      "cell_type": "markdown",
      "metadata": {},
      "source": [
        "Berdasarkan Hasil Chi Square dilakukan drop kolom untuk variabel `HasCrCard_1`"
      ]
    },
    {
      "cell_type": "code",
      "execution_count": null,
      "metadata": {},
      "outputs": [],
      "source": [
        "try:\n",
        "    # Hapus kolom-kolom yang ada dalam list columns_to_drop\n",
        "    df_oversampled = df_oversampled.drop(columns='HasCrCard_1')\n",
        "except KeyError as e:\n",
        "    # Tangani pengecualian jika kolom tidak ada dalam DataFrame\n",
        "    print(f\"Exception: {e} tidak ada dalam DataFrame\")"
      ]
    },
    {
      "cell_type": "markdown",
      "metadata": {},
      "source": [
        "### B. Feature Extraction"
      ]
    },
    {
      "cell_type": "markdown",
      "metadata": {},
      "source": [
        "Tidak perlu dilakukan Feature extraction dikarenakan dan semua variabel numerik sudah dilakukan feature transformation"
      ]
    },
    {
      "cell_type": "markdown",
      "metadata": {},
      "source": [
        "### C. Usulan Fitur Tambahan\n",
        "\n"
      ]
    },
    {
      "cell_type": "markdown",
      "metadata": {},
      "source": [
        "- Interaksi antara `Age` dan `NumOfProducts`.\n",
        "- Rasio `Balance` terhadap `EstimatedSalary`.\n",
        "- Durasi pelanggan dengan bank.\n",
        "- Frekuensi transaksi."
      ]
    }
  ],
  "metadata": {
    "colab": {
      "provenance": []
    },
    "kernelspec": {
      "display_name": "Python 3",
      "name": "python3"
    },
    "language_info": {
      "codemirror_mode": {
        "name": "ipython",
        "version": 3
      },
      "file_extension": ".py",
      "mimetype": "text/x-python",
      "name": "python",
      "nbconvert_exporter": "python",
      "pygments_lexer": "ipython3",
      "version": "3.11.4"
    }
  },
  "nbformat": 4,
  "nbformat_minor": 0
}
